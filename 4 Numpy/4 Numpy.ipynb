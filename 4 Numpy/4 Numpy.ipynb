{
 "cells": [
  {
   "cell_type": "code",
   "execution_count": 7,
   "id": "7bb2bcf9",
   "metadata": {},
   "outputs": [],
   "source": [
    "# Install nbstripout\n",
    "#!pip install nbstripout\n"
   ]
  },
  {
   "cell_type": "code",
   "execution_count": 8,
   "id": "5dd6f35c",
   "metadata": {},
   "outputs": [],
   "source": [
    "# Set up for the repository\n",
    "#nbstripout --install"
   ]
  },
  {
   "cell_type": "markdown",
   "id": "e466ff8a",
   "metadata": {},
   "source": [
    "# Practical NumPy Course for Beginners\n",
    "\n",
    "## Course Overview\n",
    "\n",
    "This course introduces NumPy, the fundamental package for scientific computing with Python. By the end of this course, you'll be comfortable with NumPy's core functionality and ready to use it in data analysis, machine learning, and scientific computing projects.\n",
    "\n",
    "## Module 1: Introduction to NumPy\n",
    "\n",
    "### 1.1 What is NumPy?\n",
    "\n",
    "- NumPy (Numerical Python) is the foundation for scientific computing in Python.\n",
    "- Provides support for large, multi-dimensional arrays and matrices.\n",
    "- Includes a large collection of high-level mathematical functions.\n",
    "- Powers many other libraries (Pandas, Matplotlib, SciPy, scikit-learn).\n",
    "\n",
    "### 1.2 Why NumPy?\n",
    "\n",
    "- Significantly faster than Python lists for numerical operations.\n",
    "- Memory-efficient storage of large datasets.\n",
    "- Vectorized operations for cleaner, more readable code.\n",
    "- Broadcasting capabilities for working with arrays of different shapes.\n",
    "\n",
    "### 1.3 Setup and Installation\n",
    "\n"
   ]
  },
  {
   "cell_type": "code",
   "execution_count": 2,
   "id": "04cabe45",
   "metadata": {},
   "outputs": [],
   "source": [
    "# Install NumPy\n",
    "#!pip install numpy\n",
    "\n",
    "# Import in your Python script\n",
    "import numpy as np"
   ]
  },
  {
   "cell_type": "markdown",
   "id": "1fc4a43c",
   "metadata": {},
   "source": [
    "### 1.4 Real-Life Application: Performance Comparison"
   ]
  },
  {
   "cell_type": "code",
   "execution_count": 3,
   "id": "abd04255",
   "metadata": {},
   "outputs": [
    {
     "name": "stdout",
     "output_type": "stream",
     "text": [
      "Python list time: 0.074576 seconds\n",
      "NumPy time: 0.002001 seconds\n"
     ]
    }
   ],
   "source": [
    "import numpy as np\n",
    "import time\n",
    "\n",
    "# Create a large dataset\n",
    "size = 1000000\n",
    "\n",
    "# Python list approach\n",
    "start = time.time()\n",
    "py_list = list(range(size))\n",
    "result_list = [x * 2 for x in py_list]\n",
    "end = time.time()\n",
    "print(f\"Python list time: {end - start:.6f} seconds\")\n",
    "\n",
    "# NumPy approach\n",
    "start = time.time()\n",
    "np_array = np.arange(size)\n",
    "result_array = np_array * 2\n",
    "end = time.time()\n",
    "print(f\"NumPy time: {end - start:.6f} seconds\")\n",
    "\n",
    "# The NumPy version will likely be 10-100x faster"
   ]
  },
  {
   "cell_type": "markdown",
   "id": "9d769145",
   "metadata": {},
   "source": [
    "## Module 2: NumPy Arrays - The Building Blocks\n",
    "### 2.1 Creating Arrays"
   ]
  },
  {
   "cell_type": "code",
   "execution_count": 9,
   "id": "d44f4430",
   "metadata": {},
   "outputs": [],
   "source": [
    "# From Python lists\n",
    "arr1 = np.array([1, 2, 3, 4, 5])\n",
    "arr2 = np.array([[1, 2, 3], [4, 5, 6]])\n",
    "\n",
    "# Using built-in functions\n",
    "zeros = np.zeros((3, 4))          # 3x4 array of zeros\n",
    "ones = np.ones((2, 3, 4))         # 2x3x4 array of ones\n",
    "arange = np.arange(0, 10, 2)      # [0, 2, 4, 6, 8]\n",
    "linspace = np.linspace(0, 1, 5)   # 5 evenly spaced values from 0 to 1\n",
    "random = np.random.random((2, 2)) # 2x2 array of random values"
   ]
  },
  {
   "cell_type": "markdown",
   "id": "6ee81e57",
   "metadata": {},
   "source": [
    "### 2.2 Array Attributes"
   ]
  },
  {
   "cell_type": "code",
   "execution_count": null,
   "id": "c81443e7",
   "metadata": {},
   "outputs": [],
   "source": [
    "arr = np.array([[1, 2, 3], [4, 5, 6]])\n",
    "\n",
    "print(arr.shape)     # (2, 3) - dimensions\n",
    "print(arr.ndim)      # 2 - number of dimensions\n",
    "print(arr.size)      # 6 - total number of elements\n",
    "print(arr.dtype)     # int64 - data type"
   ]
  },
  {
   "cell_type": "markdown",
   "id": "3e7e61f5",
   "metadata": {},
   "source": [
    "### 2.3 Data Types"
   ]
  },
  {
   "cell_type": "code",
   "execution_count": null,
   "id": "6e320761",
   "metadata": {},
   "outputs": [],
   "source": [
    "# Specify data type during creation\n",
    "int_arr = np.array([1, 2, 3], dtype=np.int32)\n",
    "float_arr = np.array([1, 2, 3], dtype=np.float64)\n",
    "\n",
    "# Convert data types\n",
    "converted = int_arr.astype(np.float64)"
   ]
  },
  {
   "cell_type": "markdown",
   "id": "88ed58d0",
   "metadata": {},
   "source": [
    "### 2.4 Real-Life Application: Stock Market Data"
   ]
  },
  {
   "cell_type": "code",
   "execution_count": 11,
   "id": "5cf92bfc",
   "metadata": {},
   "outputs": [
    {
     "name": "stdout",
     "output_type": "stream",
     "text": [
      "Companies' daily returns (%):\n",
      "[[ 0.          1.36439268 -0.36112935  1.15321252 -0.39087948]\n",
      " [ 0.         -1.01694915  1.65189363 -0.19817677 -0.8141382 ]\n",
      " [ 0.          0.98253275 -0.75675676  1.85185185  0.96256684]]\n",
      "Best performing company index: 2\n"
     ]
    }
   ],
   "source": [
    "# Real-life example: Daily stock prices for 5 days\n",
    "stock_prices = np.array([\n",
    "    [150.25, 152.30, 151.75, 153.50, 152.90],  # Company A\n",
    "    [250.75, 248.20, 252.30, 251.80, 249.75],  # Company B\n",
    "    [45.80, 46.25, 45.90, 46.75, 47.20]        # Company C\n",
    "])\n",
    "\n",
    "# Calculate daily returns (percentage change)\n",
    "daily_returns = np.zeros_like(stock_prices)\n",
    "daily_returns[:, 1:] = (stock_prices[:, 1:] - stock_prices[:, :-1]) / stock_prices[:, :-1] * 100\n",
    "\n",
    "print(\"Companies' daily returns (%):\")\n",
    "print(daily_returns)\n",
    "\n",
    "# Which company had the highest average return?\n",
    "avg_returns = np.mean(daily_returns[:, 1:], axis=1)\n",
    "best_company_idx = np.argmax(avg_returns)\n",
    "print(f\"Best performing company index: {best_company_idx}\")"
   ]
  },
  {
   "cell_type": "markdown",
   "id": "2e3042aa",
   "metadata": {},
   "source": [
    "## Module 3: Array Indexing and Slicing\n",
    "### 3.1 Basic Indexing"
   ]
  },
  {
   "cell_type": "code",
   "execution_count": 12,
   "id": "083f6c23",
   "metadata": {},
   "outputs": [
    {
     "name": "stdout",
     "output_type": "stream",
     "text": [
      "1\n",
      "5\n",
      "1\n",
      "8\n"
     ]
    }
   ],
   "source": [
    "arr = np.array([1, 2, 3, 4, 5])\n",
    "print(arr[0])       # 1 - first element\n",
    "print(arr[-1])      # 5 - last element\n",
    "\n",
    "arr_2d = np.array([[1, 2, 3], [4, 5, 6], [7, 8, 9]])\n",
    "print(arr_2d[0, 0]) # 1 - first element of first row\n",
    "print(arr_2d[2, 1]) # 8 - second element of third row"
   ]
  },
  {
   "cell_type": "markdown",
   "id": "fcd9ce91",
   "metadata": {},
   "source": [
    "### 3.2 Slicing"
   ]
  },
  {
   "cell_type": "code",
   "execution_count": 13,
   "id": "4606c323",
   "metadata": {},
   "outputs": [
    {
     "name": "stdout",
     "output_type": "stream",
     "text": [
      "[2 3 4]\n",
      "[0 2 4 6 8]\n",
      "[[2 3]\n",
      " [5 6]]\n"
     ]
    }
   ],
   "source": [
    "arr = np.array([0, 1, 2, 3, 4, 5, 6, 7, 8, 9])\n",
    "print(arr[2:5])     # [2, 3, 4] - elements from index 2 to 4\n",
    "print(arr[::2])     # [0, 2, 4, 6, 8] - every second element\n",
    "\n",
    "arr_2d = np.array([[1, 2, 3], [4, 5, 6], [7, 8, 9]])\n",
    "print(arr_2d[:2, 1:]) # [[2, 3], [5, 6]] - first 2 rows, columns from index 1 onward"
   ]
  },
  {
   "cell_type": "markdown",
   "id": "8978dead",
   "metadata": {},
   "source": [
    "### 3.3 Boolean Indexing"
   ]
  },
  {
   "cell_type": "code",
   "execution_count": 14,
   "id": "79b40926",
   "metadata": {},
   "outputs": [
    {
     "name": "stdout",
     "output_type": "stream",
     "text": [
      "[False False False  True  True]\n",
      "[4 5]\n",
      "[3 4]\n"
     ]
    }
   ],
   "source": [
    "arr = np.array([1, 2, 3, 4, 5])\n",
    "mask = arr > 3\n",
    "print(mask)           # [False, False, False, True, True]\n",
    "print(arr[mask])      # [4, 5] - elements where condition is True\n",
    "\n",
    "# Multiple conditions\n",
    "arr = np.array([1, 2, 3, 4, 5])\n",
    "print(arr[(arr > 2) & (arr < 5)])  # [3, 4] - elements between 2 and 5"
   ]
  },
  {
   "cell_type": "markdown",
   "id": "4fd3f917",
   "metadata": {},
   "source": [
    "### 3.4 Fancy Indexing"
   ]
  },
  {
   "cell_type": "code",
   "execution_count": 15,
   "id": "c6f4568c",
   "metadata": {},
   "outputs": [
    {
     "name": "stdout",
     "output_type": "stream",
     "text": [
      "[10 30 50]\n"
     ]
    }
   ],
   "source": [
    "arr = np.array([10, 20, 30, 40, 50])\n",
    "indices = [0, 2, 4]\n",
    "print(arr[indices])  # [10, 30, 50] - elements at specified indices"
   ]
  },
  {
   "cell_type": "markdown",
   "id": "7baf01c1",
   "metadata": {},
   "source": [
    "### 3.5  Real-Life Application: Medical Data Analysis"
   ]
  },
  {
   "cell_type": "code",
   "execution_count": 16,
   "id": "38b90eff",
   "metadata": {},
   "outputs": [
    {
     "name": "stdout",
     "output_type": "stream",
     "text": [
      "Patients with high BP on day 3: [1 5 9]\n",
      "High-risk patients' blood pressure data:\n",
      "[[142 140 145 143 141]\n",
      " [150 148 152 149 151]\n",
      " [145 143 146 144 142]]\n",
      "Average BP for high-risk patients: [142.2 150.  144. ]\n",
      "Day with highest average BP: Day 3\n"
     ]
    }
   ],
   "source": [
    "# Blood pressure readings for 10 patients over 5 days\n",
    "# Each row is a patient, each column is a day\n",
    "bp_data = np.array([\n",
    "    [120, 122, 119, 121, 120],\n",
    "    [142, 140, 145, 143, 141],\n",
    "    [135, 132, 136, 134, 133],\n",
    "    [128, 130, 127, 129, 131],\n",
    "    [118, 117, 120, 119, 121],\n",
    "    [150, 148, 152, 149, 151],\n",
    "    [125, 126, 124, 123, 125],\n",
    "    [138, 136, 139, 137, 135],\n",
    "    [130, 132, 131, 129, 133],\n",
    "    [145, 143, 146, 144, 142]\n",
    "])\n",
    "\n",
    "# Identify patients with high blood pressure (>140) on day 3\n",
    "high_bp_day3 = bp_data[:, 2] > 140\n",
    "high_risk_patients = np.where(high_bp_day3)[0]  # Get indices\n",
    "print(f\"Patients with high BP on day 3: {high_risk_patients}\")\n",
    "\n",
    "# Get all readings for these high-risk patients\n",
    "high_risk_data = bp_data[high_risk_patients]\n",
    "print(\"High-risk patients' blood pressure data:\")\n",
    "print(high_risk_data)\n",
    "\n",
    "# Calculate average BP for each high-risk patient\n",
    "high_risk_avg = np.mean(high_risk_data, axis=1)\n",
    "print(f\"Average BP for high-risk patients: {high_risk_avg}\")\n",
    "\n",
    "# Which days had the highest average BP across all patients?\n",
    "daily_avg = np.mean(bp_data, axis=0)\n",
    "highest_day = np.argmax(daily_avg)\n",
    "print(f\"Day with highest average BP: Day {highest_day + 1}\")"
   ]
  },
  {
   "cell_type": "markdown",
   "id": "dabe3cb9",
   "metadata": {},
   "source": [
    "### Module 4: Array Manipulation\n",
    "#### 4.1 Reshaping"
   ]
  },
  {
   "cell_type": "code",
   "execution_count": 17,
   "id": "5b7c6029",
   "metadata": {},
   "outputs": [],
   "source": [
    "arr = np.arange(12)\n",
    "reshaped = arr.reshape(3, 4)  # 3 rows, 4 columns\n",
    "reshaped = arr.reshape(2, -1) # 2 rows, columns determined automatically"
   ]
  },
  {
   "cell_type": "markdown",
   "id": "d3b9af07",
   "metadata": {},
   "source": [
    "### 4.2 Stacking and Splitting"
   ]
  },
  {
   "cell_type": "code",
   "execution_count": null,
   "id": "4a610ddd",
   "metadata": {},
   "outputs": [],
   "source": [
    "a = np.array([1, 2, 3])\n",
    "b = np.array([4, 5, 6])\n",
    "\n",
    "# Stacking\n",
    "vertical = np.vstack((a, b))    # [[1, 2, 3], [4, 5, 6]]\n",
    "horizontal = np.hstack((a, b))  # [1, 2, 3, 4, 5, 6]\n",
    "stacked = np.column_stack((a, b))  # [[1, 4], [2, 5], [3, 6]]\n",
    "\n",
    "# Splitting\n",
    "arr = np.array([1, 2, 3, 4, 5, 6])\n",
    "split = np.split(arr, 3)  # [array([1, 2]), array([3, 4]), array([5, 6])]\n",
    "\n",
    "arr_2d = np.array([[1, 2, 3], [4, 5, 6], [7, 8, 9]])\n",
    "vsplit = np.vsplit(arr_2d, 3)  # Split into 3 arrays horizontally\n",
    "hsplit = np.hsplit(arr_2d, 3)  # Split into 3 arrays vertically"
   ]
  },
  {
   "cell_type": "markdown",
   "id": "18a7c733",
   "metadata": {},
   "source": [
    "### 4.3 Array Transformations"
   ]
  },
  {
   "cell_type": "code",
   "execution_count": 18,
   "id": "9c63f0e8",
   "metadata": {},
   "outputs": [],
   "source": [
    "arr = np.array([[1, 2, 3], [4, 5, 6]])\n",
    "transposed = arr.T  # Transpose: [[1, 4], [2, 5], [3, 6]]\n",
    "\n",
    "flat = arr.flatten()  # Flatten to 1D: [1, 2, 3, 4, 5, 6]\n",
    "flat_view = arr.ravel()  # Same, but returns a view instead of copy"
   ]
  },
  {
   "cell_type": "markdown",
   "id": "0e46a5a2",
   "metadata": {},
   "source": [
    "### 4.4 Real-Life Application: Sensor Data Processing\n"
   ]
  },
  {
   "cell_type": "code",
   "execution_count": 19,
   "id": "1b5b9f8a",
   "metadata": {},
   "outputs": [
    {
     "name": "stdout",
     "output_type": "stream",
     "text": [
      "Original data shape: (4, 8, 3)\n",
      "Reshaped data: (4, 24)\n",
      "Average reading per sensor: [0.37252393 0.50507388 0.54317819 0.57607063]\n",
      "Combined data shape: (2, 24)\n",
      "Morning data shape: (4, 4, 3)\n",
      "Afternoon data shape: (4, 4, 3)\n",
      "Change from morning to afternoon: [-0.18193676  0.03020832  0.04366034  0.02147846]\n"
     ]
    }
   ],
   "source": [
    "# Imagine we have sensor data from 4 different sensors\n",
    "# Each recording 3 measurements per hour for 8 hours\n",
    "sensor_data = np.random.rand(4, 8, 3)  # (sensors, hours, measurements)\n",
    "print(f\"Original data shape: {sensor_data.shape}\")\n",
    "\n",
    "# Reshape to analyze all measurements for each sensor\n",
    "# New shape: (sensors, total measurements)\n",
    "reshaped_data = sensor_data.reshape(4, -1)\n",
    "print(f\"Reshaped data: {reshaped_data.shape}\")\n",
    "\n",
    "# Calculate average reading for each sensor\n",
    "sensor_means = np.mean(reshaped_data, axis=1)\n",
    "print(f\"Average reading per sensor: {sensor_means}\")\n",
    "\n",
    "# Stack data from first two sensors for comparative analysis\n",
    "combined_sensors = np.vstack((reshaped_data[0], reshaped_data[1]))\n",
    "print(f\"Combined data shape: {combined_sensors.shape}\")\n",
    "\n",
    "# Split the 8 hours into morning (first 4) and afternoon (last 4)\n",
    "morning_data = sensor_data[:, :4, :]\n",
    "afternoon_data = sensor_data[:, 4:, :]\n",
    "print(f\"Morning data shape: {morning_data.shape}\")\n",
    "print(f\"Afternoon data shape: {afternoon_data.shape}\")\n",
    "\n",
    "# Calculate difference in average readings between morning and afternoon\n",
    "morning_avg = np.mean(morning_data, axis=(1, 2))\n",
    "afternoon_avg = np.mean(afternoon_data, axis=(1, 2))\n",
    "difference = afternoon_avg - morning_avg\n",
    "print(f\"Change from morning to afternoon: {difference}\")"
   ]
  },
  {
   "cell_type": "markdown",
   "id": "b7a4f56d",
   "metadata": {},
   "source": [
    "##  Module 5: Array Operations\n",
    "### 5.1 Element-wise Operations"
   ]
  },
  {
   "cell_type": "code",
   "execution_count": null,
   "id": "278fe51c",
   "metadata": {},
   "outputs": [],
   "source": [
    "a = np.array([1, 2, 3])\n",
    "b = np.array([4, 5, 6])\n",
    "\n",
    "# Arithmetic operations\n",
    "addition = a + b         # [5, 7, 9]\n",
    "subtraction = a - b      # [-3, -3, -3]\n",
    "multiplication = a * b   # [4, 10, 18]\n",
    "division = a / b         # [0.25, 0.4, 0.5]\n",
    "power = a ** 2           # [1, 4, 9]\n",
    "\n",
    "# With scalars\n",
    "plus_10 = a + 10         # [11, 12, 13]\n",
    "times_10 = a * 10        # [10, 20, 30]"
   ]
  },
  {
   "cell_type": "markdown",
   "id": "6b51d7af",
   "metadata": {},
   "source": [
    "### 5.2 Aggregate Functions"
   ]
  },
  {
   "cell_type": "code",
   "execution_count": null,
   "id": "8e3be7c3",
   "metadata": {},
   "outputs": [],
   "source": [
    "arr = np.array([1, 2, 3, 4, 5])\n",
    "sum_val = np.sum(arr)       # 15\n",
    "mean_val = np.mean(arr)     # 3.0\n",
    "min_val = np.min(arr)       # 1\n",
    "max_val = np.max(arr)       # 5\n",
    "std_val = np.std(arr)       # 1.41... (standard deviation)\n",
    "\n",
    "# Axis-specific operations\n",
    "arr_2d = np.array([[1, 2, 3], [4, 5, 6]])\n",
    "row_sums = np.sum(arr_2d, axis=1)  # [6, 15] - sum of each row\n",
    "col_sums = np.sum(arr_2d, axis=0)  # [5, 7, 9] - sum of each column"
   ]
  },
  {
   "cell_type": "markdown",
   "id": "bb5d9b58",
   "metadata": {},
   "source": [
    "### 5.3 Universal Functions (ufuncs)"
   ]
  },
  {
   "cell_type": "code",
   "execution_count": null,
   "id": "47c28ce7",
   "metadata": {},
   "outputs": [],
   "source": [
    "arr = np.array([0, np.pi/4, np.pi/2])\n",
    "sin_vals = np.sin(arr)    # [0., 0.70710678, 1.]\n",
    "exp_vals = np.exp(arr)    # [1., 2.11700002, 4.81047738]\n",
    "sqrt_vals = np.sqrt([1, 4, 9])  # [1., 2., 3.]\n",
    "log_vals = np.log([1, np.e, np.e**2])  # [0., 1., 2.]"
   ]
  },
  {
   "cell_type": "markdown",
   "id": "0e5eb45b",
   "metadata": {},
   "source": [
    "### 5.3 Broadcasting"
   ]
  },
  {
   "cell_type": "code",
   "execution_count": null,
   "id": "e5dbf111",
   "metadata": {},
   "outputs": [],
   "source": [
    "# Broadcasting allows operations between arrays of different shapes\n",
    "arr = np.array([[1, 2, 3], [4, 5, 6]])\n",
    "row_vector = np.array([10, 20, 30])\n",
    "result = arr * row_vector  # [[10, 40, 90], [40, 100, 180]]"
   ]
  },
  {
   "cell_type": "markdown",
   "id": "f65cd945",
   "metadata": {},
   "source": [
    "### 5.4 Real-Life Application: Financial Portfolio Analysis"
   ]
  },
  {
   "cell_type": "code",
   "execution_count": 23,
   "id": "dc5c58e4",
   "metadata": {},
   "outputs": [
    {
     "name": "stdout",
     "output_type": "stream",
     "text": [
      "Daily portfolio returns (%): [ 0.07078602 -0.07400943 -0.07860947  0.02608806  0.08886338 -0.01047476\n",
      "  0.13268579  0.0245019   0.0987284   0.20254938]\n",
      "Portfolio value over time: [10007.07860203  9999.67242034  9991.81173079  9994.41840035\n",
      " 10003.29977857 10002.25195671 10015.5235242  10017.9775177\n",
      " 10027.86810618 10048.17949052]\n",
      "Average daily return (%): 0.04811092646748091\n",
      "Portfolio volatility (%): 0.08437257249064245\n",
      "Best day return (%): 0.2025493766351274\n",
      "Worst day return (%): -0.07860947058608142\n",
      "Sharpe ratio: 0.4516980499996927\n"
     ]
    }
   ],
   "source": [
    "# Stock portfolio with daily returns (%) for 5 stocks over 10 days\n",
    "portfolio_returns = np.random.normal(0.05, 0.2, (5, 10))  # (stocks, days)\n",
    "\n",
    "# Portfolio weights (how much of your money is in each stock)\n",
    "weights = np.array([0.2, 0.3, 0.15, 0.25, 0.1])\n",
    "\n",
    "# Calculate daily portfolio return\n",
    "# For each day, we multiply each stock's return by its weight and sum\n",
    "daily_portfolio_returns = np.sum(portfolio_returns * weights[:, np.newaxis], axis=0)\n",
    "print(f\"Daily portfolio returns (%): {daily_portfolio_returns}\")\n",
    "\n",
    "# Calculate cumulative returns (assuming starting with $10,000)\n",
    "initial_investment = 10000\n",
    "cumulative_factor = np.cumprod(1 + daily_portfolio_returns / 100)\n",
    "portfolio_value = initial_investment * cumulative_factor\n",
    "print(f\"Portfolio value over time: {portfolio_value}\")\n",
    "\n",
    "# Risk analysis\n",
    "print(f\"Average daily return (%): {np.mean(daily_portfolio_returns)}\")\n",
    "print(f\"Portfolio volatility (%): {np.std(daily_portfolio_returns)}\")\n",
    "print(f\"Best day return (%): {np.max(daily_portfolio_returns)}\")\n",
    "print(f\"Worst day return (%): {np.min(daily_portfolio_returns)}\")\n",
    "\n",
    "# Calculate Sharpe ratio (return vs risk, higher is better)\n",
    "# Assuming risk-free rate of 0.01% daily\n",
    "risk_free_rate = 0.01\n",
    "sharpe_ratio = (np.mean(daily_portfolio_returns) - risk_free_rate) / np.std(daily_portfolio_returns)\n",
    "print(f\"Sharpe ratio: {sharpe_ratio}\")"
   ]
  },
  {
   "cell_type": "markdown",
   "id": "232ac11f",
   "metadata": {},
   "source": [
    "## Module 6: Linear Algebra with NumPy\n",
    "### 6.1 Matrix Operations"
   ]
  },
  {
   "cell_type": "code",
   "execution_count": 24,
   "id": "654ef323",
   "metadata": {},
   "outputs": [],
   "source": [
    "a = np.array([[1, 2], [3, 4]])\n",
    "b = np.array([[5, 6], [7, 8]])\n",
    "\n",
    "# Matrix multiplication\n",
    "dot_product = np.dot(a, b)  # [[19, 22], [43, 50]]\n",
    "# Or using the @ operator (Python 3.5+)\n",
    "matrix_product = a @ b      # Same result\n",
    "\n",
    "# Other operations\n",
    "determinant = np.linalg.det(a)  # -2.0\n",
    "inverse = np.linalg.inv(a)      # [[-2.0, 1.0], [1.5, -0.5]]\n",
    "eigenvalues, eigenvectors = np.linalg.eig(a)"
   ]
  },
  {
   "cell_type": "markdown",
   "id": "afd94855",
   "metadata": {},
   "source": [
    "### 6.2 Solving Linear Systems"
   ]
  },
  {
   "cell_type": "code",
   "execution_count": 25,
   "id": "2deb7606",
   "metadata": {},
   "outputs": [],
   "source": [
    "# Solve the system: 2x + y = 1, 3x + 2y = 2\n",
    "# Represented as A @ X = B\n",
    "A = np.array([[2, 1], [3, 2]])\n",
    "B = np.array([1, 2])\n",
    "X = np.linalg.solve(A, B)  # [-1.,  3.]"
   ]
  },
  {
   "cell_type": "markdown",
   "id": "a94fbb25",
   "metadata": {},
   "source": [
    "### 6.3 Real-Life Application: Network Traffic Routing"
   ]
  },
  {
   "cell_type": "code",
   "execution_count": 26,
   "id": "1f52dcf3",
   "metadata": {},
   "outputs": [
    {
     "name": "stdout",
     "output_type": "stream",
     "text": [
      "Remaining capacity:\n",
      "[[ 0  2  3  5]\n",
      " [ 5  0 15 10]\n",
      " [ 3 10  0 12]\n",
      " [ 6 13  5  0]]\n",
      "Bottleneck connection: Node 0 to Node 1\n",
      "Remaining capacity: 2.0\n",
      "Suggested traffic adjustments for each path:\n",
      "[ 4.75  7.75 -4.75 -7.75]\n"
     ]
    }
   ],
   "source": [
    "# Simplified network traffic flow model\n",
    "# We have 4 nodes (routers) in a network with directed connections\n",
    "# The connection matrix shows capacity between nodes\n",
    "# capacity[i, j] = capacity from node i to node j\n",
    "\n",
    "capacity = np.array([\n",
    "    [0, 10, 5, 15],   # Node 0 connections\n",
    "    [10, 0, 35, 25],  # Node 1 connections\n",
    "    [5, 35, 0, 30],   # Node 2 connections\n",
    "    [15, 25, 30, 0]   # Node 3 connections\n",
    "])\n",
    "\n",
    "# Current traffic on each connection\n",
    "traffic = np.array([\n",
    "    [0, 8, 2, 10],\n",
    "    [5, 0, 20, 15],\n",
    "    [2, 25, 0, 18],\n",
    "    [9, 12, 25, 0]\n",
    "])\n",
    "\n",
    "# Calculate remaining capacity\n",
    "remaining = capacity - traffic\n",
    "print(\"Remaining capacity:\")\n",
    "print(remaining)\n",
    "\n",
    "# Find bottleneck connections (least remaining capacity)\n",
    "mask = capacity > 0  # Only check actual connections\n",
    "min_remaining = np.where(mask, remaining, np.inf)\n",
    "bottleneck_idx = np.unravel_index(np.argmin(min_remaining), min_remaining.shape)\n",
    "print(f\"Bottleneck connection: Node {bottleneck_idx[0]} to Node {bottleneck_idx[1]}\")\n",
    "print(f\"Remaining capacity: {min_remaining[bottleneck_idx]}\")\n",
    "\n",
    "# Traffic balancing using least squares to optimize flow\n",
    "# Simplified: we want to calculate optimal traffic adjustment to balance load\n",
    "# We solve A @ x = b where:\n",
    "# - A is our network topology\n",
    "# - b is our target balanced load\n",
    "# - x is the adjustment needed\n",
    "\n",
    "# Create a simplified topology matrix (just for demonstration)\n",
    "A = np.array([\n",
    "    [1, 1, 0, 0],\n",
    "    [0, 1, 1, 0],\n",
    "    [0, 0, 1, 1],\n",
    "    [1, 0, 0, 1]\n",
    "])\n",
    "\n",
    "# Target: equal load distribution (simplified)\n",
    "target_load = np.ones(4) * np.mean(np.sum(traffic, axis=1))\n",
    "current_load = np.sum(traffic, axis=1)\n",
    "b = target_load - current_load\n",
    "\n",
    "# Solve for traffic adjustments (least squares since it may not have exact solution)\n",
    "adjustments, residuals, rank, s = np.linalg.lstsq(A, b, rcond=None)\n",
    "print(\"Suggested traffic adjustments for each path:\")\n",
    "print(adjustments)"
   ]
  },
  {
   "cell_type": "markdown",
   "id": "27a9ff79",
   "metadata": {},
   "source": [
    "## Module 7: Data Analysis and Statistics\n",
    "### 7.1 Descriptive Statistics"
   ]
  },
  {
   "cell_type": "code",
   "execution_count": 27,
   "id": "abba7a5c",
   "metadata": {},
   "outputs": [],
   "source": [
    "data = np.random.normal(0, 1, 1000)  # 1000 samples from normal distribution\n",
    "\n",
    "# Basic statistics\n",
    "mean = np.mean(data)\n",
    "median = np.median(data)\n",
    "std_dev = np.std(data)\n",
    "variance = np.var(data)\n",
    "min_val = np.min(data)\n",
    "max_val = np.max(data)\n",
    "\n",
    "# Percentiles\n",
    "percentiles = np.percentile(data, [25, 50, 75, 95])\n",
    "iqr = percentiles[2] - percentiles[0]  # Interquartile range\n",
    "\n",
    "# Histogram\n",
    "hist, bin_edges = np.histogram(data, bins=10)"
   ]
  },
  {
   "cell_type": "markdown",
   "id": "6e173161",
   "metadata": {},
   "source": [
    "### 7.2 Correlation and Covariance"
   ]
  },
  {
   "cell_type": "code",
   "execution_count": 28,
   "id": "617b3f43",
   "metadata": {},
   "outputs": [],
   "source": [
    "# Generate correlated data\n",
    "x = np.random.normal(0, 1, 100)\n",
    "y = x * 0.8 + np.random.normal(0, 0.5, 100)  # y correlates with x\n",
    "\n",
    "# Calculate correlation and covariance\n",
    "correlation = np.corrcoef(x, y)[0, 1]\n",
    "covariance = np.cov(x, y)[0, 1]"
   ]
  },
  {
   "cell_type": "markdown",
   "id": "4b32fc55",
   "metadata": {},
   "source": [
    "### 7.3 Real-Life Application: Climate Data Analysis"
   ]
  },
  {
   "cell_type": "code",
   "execution_count": 29,
   "id": "8eab80fd",
   "metadata": {},
   "outputs": [
    {
     "name": "stdout",
     "output_type": "stream",
     "text": [
      "Yearly average temperatures: [12.80833333 26.29166667  3.7        13.18333333 22.96666667]\n",
      "Most variable climate: City 2\n",
      "Temperature range: 31.0°C\n",
      "Seasonal averages:\n",
      "Winter: [  5.76666667  20.83333333 -10.96666667   9.56666667  25.93333333]\n",
      "Spring: [11.96666667 25.4         4.86666667 11.73333333 23.86666667]\n",
      "Summer: [21.1        31.83333333 17.53333333 17.36666667 18.86666667]\n",
      "Fall: [12.4        27.1         3.36666667 14.06666667 23.2       ]\n",
      "Temperature correlation between cities:\n",
      "[[ 1.          0.98356939  0.98289656  0.96509051 -0.97912003]\n",
      " [ 0.98356939  1.          0.96921521  0.98601581 -0.95075521]\n",
      " [ 0.98289656  0.96921521  1.          0.9318103  -0.95440197]\n",
      " [ 0.96509051  0.98601581  0.9318103   1.         -0.95185416]\n",
      " [-0.97912003 -0.95075521 -0.95440197 -0.95185416  1.        ]]\n",
      "Month with greatest temperature differences: 1\n",
      "Temperature difference: 37.9°C\n"
     ]
    }
   ],
   "source": [
    "# Monthly average temperatures for 5 cities over 12 months\n",
    "temperature_data = np.array([\n",
    "    [5.3, 6.8, 8.2, 11.5, 16.2, 19.8, 22.1, 21.4, 17.3, 12.1, 7.8, 5.2],  # City A\n",
    "    [20.5, 21.2, 23.1, 25.3, 27.8, 30.2, 32.5, 32.8, 31.0, 27.2, 23.1, 20.8],  # City B\n",
    "    [-12.1, -10.3, -2.5, 4.8, 12.3, 16.5, 18.9, 17.2, 10.5, 3.8, -4.2, -10.5],  # City C\n",
    "    [9.2, 9.8, 10.5, 11.2, 13.5, 16.2, 18.0, 17.9, 16.5, 14.2, 11.5, 9.7],  # City D\n",
    "    [25.8, 26.3, 25.9, 24.2, 21.5, 18.9, 18.2, 19.5, 21.3, 23.5, 24.8, 25.7]   # City E\n",
    "])\n",
    "\n",
    "# Calculate yearly average for each city\n",
    "yearly_avg = np.mean(temperature_data, axis=1)\n",
    "print(f\"Yearly average temperatures: {yearly_avg}\")\n",
    "\n",
    "# Find the city with the largest temperature range\n",
    "temp_ranges = np.max(temperature_data, axis=1) - np.min(temperature_data, axis=1)\n",
    "most_variable_city = np.argmax(temp_ranges)\n",
    "print(f\"Most variable climate: City {most_variable_city}\")\n",
    "print(f\"Temperature range: {temp_ranges[most_variable_city]:.1f}°C\")\n",
    "\n",
    "# Calculate seasonal averages (Winter: Dec-Feb, Spring: Mar-May, etc.)\n",
    "winter = np.mean(np.column_stack((temperature_data[:, 11], temperature_data[:, 0], temperature_data[:, 1])), axis=1)\n",
    "spring = np.mean(temperature_data[:, 2:5], axis=1)\n",
    "summer = np.mean(temperature_data[:, 5:8], axis=1)\n",
    "fall = np.mean(temperature_data[:, 8:11], axis=1)\n",
    "\n",
    "print(\"Seasonal averages:\")\n",
    "print(f\"Winter: {winter}\")\n",
    "print(f\"Spring: {spring}\")\n",
    "print(f\"Summer: {summer}\")\n",
    "print(f\"Fall: {fall}\")\n",
    "\n",
    "# Correlation between cities (do they tend to be hot/cold at the same times?)\n",
    "correlation_matrix = np.corrcoef(temperature_data)\n",
    "print(\"Temperature correlation between cities:\")\n",
    "print(correlation_matrix)\n",
    "\n",
    "# Which month has the greatest temperature differences across cities?\n",
    "monthly_ranges = np.max(temperature_data, axis=0) - np.min(temperature_data, axis=0)\n",
    "greatest_diff_month = np.argmax(monthly_ranges)\n",
    "print(f\"Month with greatest temperature differences: {greatest_diff_month + 1}\")\n",
    "print(f\"Temperature difference: {monthly_ranges[greatest_diff_month]:.1f}°C\")"
   ]
  },
  {
   "cell_type": "markdown",
   "id": "8315f374",
   "metadata": {},
   "source": [
    "## Module 8: Image Processing with NumPy\n",
    "### 8.1 Basic Image Representation"
   ]
  },
  {
   "cell_type": "code",
   "execution_count": 31,
   "id": "167165be",
   "metadata": {},
   "outputs": [],
   "source": [
    "# Create a simple 5x5 grayscale image (0-255)\n",
    "img = np.array([\n",
    "    [50, 50, 50, 50, 50],\n",
    "    [50, 100, 100, 100, 50],\n",
    "    [50, 100, 200, 100, 50],\n",
    "    [50, 100, 100, 100, 50],\n",
    "    [50, 50, 50, 50, 50]\n",
    "])\n",
    "\n",
    "# Normalize to 0-1 range (common for image processing)\n",
    "img_normalized = img / 255.0"
   ]
  },
  {
   "cell_type": "code",
   "execution_count": 33,
   "id": "76b9d5f8",
   "metadata": {},
   "outputs": [
    {
     "data": {
      "image/png": "[encoded data removed]",
      "text/plain": [
       "<Figure size 640x480 with 2 Axes>"
      ]
     },
     "metadata": {},
     "output_type": "display_data"
    }
   ],
   "source": [
    "# display the image \n",
    "import numpy as np\n",
    "import matplotlib.pyplot as plt\n",
    "\n",
    "# Create a simple 5x5 grayscale image (0-255)\n",
    "img = np.array([\n",
    "    [50, 50, 50, 50, 50],\n",
    "    [50, 100, 100, 100, 50],\n",
    "    [50, 100, 200, 100, 50],\n",
    "    [50, 100, 100, 100, 50],\n",
    "    [50, 50, 50, 50, 50]\n",
    "])\n",
    "\n",
    "# Normalize to 0-1 range (common for image processing)\n",
    "img_normalized = img / 255.0\n",
    "\n",
    "# Display the image\n",
    "plt.imshow(img_normalized, cmap='gray', vmin=0, vmax=1)\n",
    "plt.colorbar()\n",
    "plt.title('5x5 Grayscale Image')\n",
    "plt.show()"
   ]
  },
  {
   "cell_type": "markdown",
   "id": "e379026d",
   "metadata": {},
   "source": [
    "### 8.2 Image Transformations"
   ]
  },
  {
   "cell_type": "code",
   "execution_count": 34,
   "id": "5cd8db44",
   "metadata": {},
   "outputs": [],
   "source": [
    "# Rotate the image\n",
    "img_rotated = np.rot90(img)\n",
    "\n",
    "# Flip horizontally\n",
    "img_flipped = np.fliplr(img)\n",
    "\n",
    "# Crop the image (center 3x3)\n",
    "img_cropped = img[1:4, 1:4]\n",
    "\n",
    "# Brightness adjustment (multiply all pixels)\n",
    "img_brighter = np.clip(img * 1.5, 0, 255).astype(np.uint8)\n",
    "\n",
    "# Apply a simple blur (3x3 average filter)\n",
    "kernel = np.ones((3, 3)) / 9\n",
    "img_padded = np.pad(img, 1, mode='constant')\n",
    "img_blurred = np.zeros_like(img)\n",
    "\n",
    "for i in range(img.shape[0]):\n",
    "    for j in range(img.shape[1]):\n",
    "        img_blurred[i, j] = np.sum(img_padded[i:i+3, j:j+3] * kernel)"
   ]
  },
  {
   "cell_type": "code",
   "execution_count": 36,
   "id": "4c0c6977",
   "metadata": {},
   "outputs": [
    {
     "data": {
      "image/png": "[encoded data removed]",
      "text/plain": [
       "<Figure size 1500x300 with 5 Axes>"
      ]
     },
     "metadata": {},
     "output_type": "display_data"
    }
   ],
   "source": [
    "# Rotate the image\n",
    "img_rotated = np.rot90(img)\n",
    "\n",
    "# Flip horizontally\n",
    "img_flipped = np.fliplr(img)\n",
    "\n",
    "# Crop the image (center 3x3)\n",
    "img_cropped = img[1:4, 1:4]\n",
    "\n",
    "# Brightness adjustment (multiply all pixels)\n",
    "img_brighter = np.clip(img * 1.5, 0, 255).astype(np.uint8)\n",
    "\n",
    "# Apply a simple blur (3x3 average filter)\n",
    "kernel = np.ones((3, 3)) / 9\n",
    "img_padded = np.pad(img, 1, mode='constant')\n",
    "img_blurred = np.zeros_like(img)\n",
    "\n",
    "for i in range(img.shape[0]):\n",
    "    for j in range(img.shape[1]):\n",
    "        img_blurred[i, j] = np.sum(img_padded[i:i+3, j:j+3] * kernel)\n",
    "\n",
    "# Display the images\n",
    "fig, axes = plt.subplots(1, 5, figsize=(15, 3))\n",
    "operations = [img_rotated, img_flipped, img_cropped, img_brighter, img_blurred]\n",
    "titles = ['Rotated', 'Flipped', 'Cropped', 'Brighter', 'Blurred']\n",
    "\n",
    "for ax, op_img, title in zip(axes, operations, titles):\n",
    "    ax.imshow(op_img, cmap='gray', vmin=0, vmax=255)\n",
    "    ax.set_title(title)\n",
    "    ax.axis('off')\n",
    "\n",
    "plt.tight_layout()\n",
    "plt.show()"
   ]
  },
  {
   "cell_type": "markdown",
   "id": "2930adfe",
   "metadata": {},
   "source": [
    "Here are the results of the image operations:\n",
    "\n",
    "- **Rotated**: The image has been rotated 90 degrees counterclockwise.\n",
    "- **Flipped**: The image has been flipped horizontally.\n",
    "- **Cropped**: The center 3x3 portion of the image has been cropped.\n",
    "- **Brighter**: The brightness of the image has been increased by multiplying pixel values by 1.5 and clipping to the range 0-255.\n",
    "- **Blurred**: A simple blur has been applied using a 3x3 average filter.\n",
    "\n",
    "Each operation modifies the original image in a distinct way, demonstrating basic image processing techniques.\n"
   ]
  },
  {
   "cell_type": "markdown",
   "id": "5fab55bd",
   "metadata": {},
   "source": [
    "### 8.3 Real-Life Application: Medical Image Analysis"
   ]
  },
  {
   "cell_type": "code",
   "execution_count": 37,
   "id": "740ffb0e",
   "metadata": {},
   "outputs": [
    {
     "data": {
      "image/png": "[encoded data removed]",
      "text/plain": [
       "<Figure size 1200x600 with 2 Axes>"
      ]
     },
     "metadata": {},
     "output_type": "display_data"
    },
    {
     "data": {
      "text/plain": [
       "(69, (60.0, 35.0), 11.600000000000001, 37.72, 49.99)"
      ]
     },
     "execution_count": 37,
     "metadata": {},
     "output_type": "execute_result"
    }
   ],
   "source": []
  },
  {
   "cell_type": "code",
   "execution_count": null,
   "id": "85434b5a",
   "metadata": {},
   "outputs": [],
   "source": []
  },
  {
   "cell_type": "code",
   "execution_count": 38,
   "id": "c9ec53a6",
   "metadata": {},
   "outputs": [
    {
     "name": "stdout",
     "output_type": "stream",
     "text": [
      "Estimated tumor size: 69 pixels\n",
      "Tumor center: (60.0, 35.0)\n"
     ]
    },
    {
     "data": {
      "image/png": "[encoded data removed]",
      "text/plain": [
       "<Figure size 1200x600 with 2 Axes>"
      ]
     },
     "metadata": {},
     "output_type": "display_data"
    },
    {
     "name": "stdout",
     "output_type": "stream",
     "text": [
      "Bone tissue percentage: 11.6%\n",
      "Soft tissue percentage: 37.7%\n",
      "Air percentage: 50.0%\n"
     ]
    }
   ],
   "source": [
    "# Simulated CT scan slice (100x100 pixels)\n",
    "# In reality, this would be loaded from a file\n",
    "ct_slice = np.zeros((100, 100))\n",
    "\n",
    "# Add simulated features (tissue = 50-100, bone = 200-250, air = 0-20)\n",
    "# Background (air)\n",
    "ct_slice.fill(10)\n",
    "\n",
    "# Add a skull-like ring (bone)\n",
    "for i in range(100):\n",
    "    for j in range(100):\n",
    "        center_dist = np.sqrt((i - 50)**2 + (j - 50)**2)\n",
    "        if 35 < center_dist < 40:\n",
    "            ct_slice[i, j] = 220 + np.random.randint(-20, 20)\n",
    "\n",
    "# Add brain-like tissue\n",
    "for i in range(100):\n",
    "    for j in range(100):\n",
    "        center_dist = np.sqrt((i - 50)**2 + (j - 50)**2)\n",
    "        if center_dist < 35:\n",
    "            ct_slice[i, j] = 70 + np.random.randint(-20, 20)\n",
    "\n",
    "# Add a small tumor (brighter region)\n",
    "tumor_center = (35, 60)\n",
    "for i in range(100):\n",
    "    for j in range(100):\n",
    "        tumor_dist = np.sqrt((i - tumor_center[0])**2 + (j - tumor_center[1])**2)\n",
    "        if tumor_dist < 5:\n",
    "            ct_slice[i, j] = 120 + np.random.randint(-10, 10)\n",
    "\n",
    "# Analysis: Find and measure tumor\n",
    "# Threshold the image to segment the tumor\n",
    "tumor_mask = (ct_slice > 100) & (ct_slice < 150)\n",
    "\n",
    "# Count tumor pixels\n",
    "tumor_size = np.sum(tumor_mask)\n",
    "print(f\"Estimated tumor size: {tumor_size} pixels\")\n",
    "\n",
    "# Find tumor center using weighted average\n",
    "y_indices, x_indices = np.where(tumor_mask)\n",
    "if len(y_indices) > 0:\n",
    "    tumor_center_y = np.mean(y_indices)\n",
    "    tumor_center_x = np.mean(x_indices)\n",
    "    print(f\"Tumor center: ({tumor_center_x:.1f}, {tumor_center_y:.1f})\")\n",
    "\n",
    "# Calculate statistics for different tissue types\n",
    "bone_mask = ct_slice > 180\n",
    "tissue_mask = (ct_slice > 40) & (ct_slice < 100)\n",
    "air_mask = ct_slice < 30\n",
    "\n",
    "# Display the CT slice and analysis results\n",
    "fig, axes = plt.subplots(1, 2, figsize=(12, 6))\n",
    "axes[0].imshow(ct_slice, cmap='gray', vmin=0, vmax=255)\n",
    "axes[0].set_title('Simulated CT Scan Slice')\n",
    "axes[0].axis('off')\n",
    "\n",
    "# Display the tumor mask\n",
    "axes[1].imshow(tumor_mask, cmap='gray')\n",
    "axes[1].set_title('Tumor Mask')\n",
    "axes[1].axis('off')\n",
    "\n",
    "plt.tight_layout()\n",
    "plt.show()\n",
    "\n",
    "print(f\"Bone tissue percentage: {np.sum(bone_mask) / ct_slice.size * 100:.1f}%\")\n",
    "print(f\"Soft tissue percentage: {np.sum(tissue_mask) / ct_slice.size * 100:.1f}%\")\n",
    "print(f\"Air percentage: {np.sum(air_mask) / ct_slice.size * 100:.1f}%\")"
   ]
  },
  {
   "cell_type": "markdown",
   "id": "8cdc9909",
   "metadata": {},
   "source": [
    "## Module 9: Time Series Analysis with NumPy\n",
    "### 9.1 Basic Time Series Operations"
   ]
  },
  {
   "cell_type": "code",
   "execution_count": 39,
   "id": "8a49685a",
   "metadata": {},
   "outputs": [],
   "source": [
    "# Daily temperature readings for 30 days\n",
    "temperatures = np.random.normal(20, 5, 30)\n",
    "\n",
    "# Rolling average (7-day window)\n",
    "def rolling_average(data, window_size):\n",
    "    result = np.zeros(len(data) - window_size + 1)\n",
    "    for i in range(len(result)):\n",
    "        result[i] = np.mean(data[i:i+window_size])\n",
    "    return result\n",
    "\n",
    "smoothed = rolling_average(temperatures, 7)"
   ]
  },
  {
   "cell_type": "markdown",
   "id": "24674e4b",
   "metadata": {},
   "source": [
    "### 9.2 Trends and Seasonal Patterns"
   ]
  },
  {
   "cell_type": "code",
   "execution_count": null,
   "id": "7d7d0311",
   "metadata": {},
   "outputs": [],
   "source": [
    "# Generate data with trend and seasonal pattern\n",
    "days = np.arange(365)\n",
    "trend = 0.05 * days  # Upward trend\n",
    "seasonal = 10 * np.sin(2 * np.pi * days / 365)  # Yearly cycle\n",
    "noise = np.random.normal(0, 2, 365)  # Random variations\n",
    "temperature = 15 + trend + seasonal + noise"
   ]
  },
  {
   "cell_type": "markdown",
   "id": "d4459fab",
   "metadata": {},
   "source": [
    "### 9.3 Real-Life Application: Retail Sales Forecasting"
   ]
  },
  {
   "cell_type": "code",
   "execution_count": 40,
   "id": "c7f5955b",
   "metadata": {},
   "outputs": [
    {
     "name": "stdout",
     "output_type": "stream",
     "text": [
      "Average monthly sales: $10645.67\n",
      "Sales growth: $687.24\n",
      "Highest month: 2\n",
      "Lowest month: 7\n",
      "Year-over-year growth: [6.33518881 4.98454491]%\n"
     ]
    }
   ],
   "source": [
    "# Monthly sales data for 3 years\n",
    "months = np.arange(36)\n",
    "\n",
    "# Create synthetic sales data with:\n",
    "# - Upward trend (business growth)\n",
    "# - Seasonal pattern (higher in Nov-Dec, lower in Jan-Feb)\n",
    "# - Random noise\n",
    "\n",
    "# Base level sales\n",
    "base_sales = 10000\n",
    "\n",
    "# Growth trend (5% annual growth rate)\n",
    "growth_rate = 0.05/12  # monthly rate\n",
    "trend = base_sales * (1 + growth_rate * months)\n",
    "\n",
    "# Seasonal pattern (higher during holidays)\n",
    "seasonality = 3000 * np.sin(2 * np.pi * (months - 10) / 12)  # Peak in December\n",
    "\n",
    "# Random variations\n",
    "noise = np.random.normal(0, 500, 36)\n",
    "\n",
    "# Generate the final sales data\n",
    "sales = trend + seasonality + noise\n",
    "\n",
    "# Analyze the sales data\n",
    "print(f\"Average monthly sales: ${np.mean(sales):.2f}\")\n",
    "print(f\"Sales growth: ${sales[-1] - sales[0]:.2f}\")\n",
    "print(f\"Highest month: {np.argmax(sales) % 12 + 1}\")  # Convert to 1-12 month format\n",
    "print(f\"Lowest month: {np.argmin(sales) % 12 + 1}\")\n",
    "\n",
    "# Calculate year-over-year growth\n",
    "yearly_sales = []\n",
    "for i in range(3):  # 3 years\n",
    "    yearly_sales.append(np.sum(sales[i*12:(i+1)*12]))\n",
    "\n",
    "yoy_growth = np.diff(yearly_sales) / yearly_sales[:-1] * 100\n",
    "print(f\"Year-over-year growth: {yoy_growth}%\")\n",
    "\n",
    "# Detrend the data to isolate seasonality\n",
    "# We'll use a simple linear regression approach\n",
    "X = months.reshape(-1, 1)\n",
    "y = sales.reshape(-1, 1)\n",
    "X_with_const = np.hstack([np.ones((36, 1)), X])\n",
    "beta = np.linalg.inv(X_with_const.T @ X_with_const) @ X_with_const.T @ y\n",
    "trend_line = X"
   ]
  },
  {
   "cell_type": "code",
   "execution_count": null,
   "id": "c7ca7365",
   "metadata": {},
   "outputs": [],
   "source": []
  }
 ],
 "metadata": {
  "kernelspec": {
   "display_name": "Python 3 (ipykernel)",
   "language": "python",
   "name": "python3"
  },
  "language_info": {
   "codemirror_mode": {
    "name": "ipython",
    "version": 3
   },
   "file_extension": ".py",
   "mimetype": "text/x-python",
   "name": "python",
   "nbconvert_exporter": "python",
   "pygments_lexer": "ipython3",
   "version": "3.11.5"
  }
 },
 "nbformat": 4,
 "nbformat_minor": 5
}
