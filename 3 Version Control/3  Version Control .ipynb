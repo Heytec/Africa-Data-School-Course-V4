{
 "cells": [
  {
   "cell_type": "markdown",
   "id": "d6e13a3f",
   "metadata": {},
   "source": [
    "# Practical Version Control for Data Scientists  \n",
    "## Detailed Notes and Code Examples  \n",
    "\n",
    "## Module 1: Version Control Fundamentals  \n",
    "\n",
    "### 1.1: Why Version Control Matters for Data Scientists  \n",
    "\n",
    "#### Key Notes:  \n",
    "\n",
    "- Version control is a system that records changes to files over time.  \n",
    "- **Data science challenges without version control:**  \n",
    "  - Notebook experiments become unmanageable (`final_model_v5_FINAL_REALLY_FINAL.ipynb`).  \n",
    "  - Difficult to reproduce past results.  \n",
    "  - Collaboration becomes error-prone.  \n",
    "  - Lost work due to accidental overwrites.  \n",
    "\n",
    "#### Real-life example:  \n",
    "A data scientist spends weeks building a complex model. After making \"improvements\" that actually decrease performance, they can't go back to the previous version because they've overwritten their files. With Git, they could simply revert to a previous commit.  \n"
   ]
  },
  {
   "cell_type": "markdown",
   "id": "7853c0fe",
   "metadata": {},
   "source": [
    "### Module 1.2: Setting Up Your Environment  \n",
    "\n",
    "####  Installation Commands  \n"
   ]
  },
  {
   "cell_type": "markdown",
   "id": "0cf55682",
   "metadata": {},
   "source": [
    "#### For macOS:"
   ]
  },
  {
   "cell_type": "raw",
   "id": "210d29b0",
   "metadata": {},
   "source": [
    "# Using Homebrew\n",
    "brew install git\n",
    "\n",
    "# Verify installation\n",
    "git --version"
   ]
  },
  {
   "cell_type": "markdown",
   "id": "54c927dc",
   "metadata": {},
   "source": [
    "#### For Ubuntu/Debian:"
   ]
  },
  {
   "cell_type": "raw",
   "id": "3ae16029",
   "metadata": {},
   "source": [
    "sudo apt update\n",
    "sudo apt install git\n",
    "git --version"
   ]
  },
  {
   "cell_type": "markdown",
   "id": "b1cf4a41",
   "metadata": {},
   "source": [
    "##### For Windows:"
   ]
  },
  {
   "cell_type": "markdown",
   "id": "86a9c1a9",
   "metadata": {},
   "source": [
    "Download Git from https://git-scm.com/download/win\n",
    "Run the installer with default options"
   ]
  },
  {
   "cell_type": "markdown",
   "id": "d0198f3f",
   "metadata": {},
   "source": [
    "### 1.3 Initial Configuration:"
   ]
  },
  {
   "cell_type": "code",
   "execution_count": null,
   "id": "91275b35",
   "metadata": {},
   "outputs": [],
   "source": [
    "# Set your identity\n",
    "git config --global user.name \"Your Name\"\n",
    "git config --global user.email \"your.email@example.com\"\n",
    "\n",
    "# Set default editor (optional)\n",
    "git config --global core.editor \"code --wait\"  # For VS Code\n",
    "\n",
    "# Check your settings\n",
    "git config --list"
   ]
  },
  {
   "cell_type": "code",
   "execution_count": null,
   "id": "03bc9fd3",
   "metadata": {},
   "outputs": [],
   "source": [
    "Lesson 3: Core Git Concepts\n",
    "Key Commands:"
   ]
  },
  {
   "cell_type": "markdown",
   "id": "8c9794c2",
   "metadata": {},
   "source": [
    "###  1.4: Core Git Concepts\n",
    "\n",
    "####   Key Commands:"
   ]
  },
  {
   "cell_type": "code",
   "execution_count": null,
   "id": "42fd8220",
   "metadata": {},
   "outputs": [],
   "source": [
    "# Initialize a new repository\n",
    "git init\n",
    "\n",
    "# Check status of files\n",
    "git status\n",
    "\n",
    "# Add files to staging area\n",
    "git add <filename>  # Specific file\n",
    "git add .           # All changes\n",
    "\n",
    "# Commit changes\n",
    "git commit -m \"Descriptive message about changes\"\n",
    "\n",
    "# View commit history\n",
    "git log\n",
    "git log --oneline  # Compact view"
   ]
  },
  {
   "cell_type": "markdown",
   "id": "8a893c7c",
   "metadata": {},
   "source": [
    "### 1.5 Illustrated Example:"
   ]
  },
  {
   "cell_type": "code",
   "execution_count": null,
   "id": "5a059088",
   "metadata": {},
   "outputs": [],
   "source": [
    "# Create a project directory\n",
    "mkdir ds_project\n",
    "cd ds_project\n",
    "\n",
    "# Initialize Git repository\n",
    "git init\n",
    "\n",
    "# Create a README file\n",
    "echo \"# My Data Science Project\" > README.md\n",
    "\n",
    "# Check status (should show README.md as untracked)\n",
    "git status\n",
    "\n",
    "# Add README to staging\n",
    "git add README.md\n",
    "\n",
    "# Check status again (should show README.md as staged)\n",
    "git status\n",
    "\n",
    "# Commit the file\n",
    "git commit -m \"Initial commit with README\"\n",
    "\n",
    "# View commit history\n",
    "git log"
   ]
  },
  {
   "cell_type": "markdown",
   "id": "55f97339",
   "metadata": {},
   "source": [
    "## Module 2: Local Git Workflows  \n",
    "\n",
    "### 2.1: Creating Your First Data Science Repository  "
   ]
  },
  {
   "cell_type": "code",
   "execution_count": null,
   "id": "1e9ae81c",
   "metadata": {},
   "outputs": [],
   "source": [
    "data-science-project/\n",
    "│\n",
    "├── data/              # Data files\n",
    "│   ├── raw/           # Original, immutable data\n",
    "│   ├── processed/     # Cleaned, transformed data\n",
    "│   └── external/      # Data from third-party sources\n",
    "│\n",
    "├── notebooks/         # Jupyter notebooks\n",
    "│   ├── exploratory/   # Initial exploration\n",
    "│   └── final/         # Polished analysis\n",
    "│\n",
    "├── src/               # Source code (functions, classes)\n",
    "│   ├── data/          # Data processing scripts\n",
    "│   ├── features/      # Feature engineering code\n",
    "│   ├── models/        # Model training and prediction\n",
    "│   └── visualization/ # Visualization code\n",
    "│\n",
    "├── models/            # Saved model files\n",
    "│\n",
    "├── reports/           # Analysis reports, figures\n",
    "│\n",
    "├── requirements.txt   # Package dependencies\n",
    "│\n",
    "└── README.md          # Project documentation"
   ]
  },
  {
   "cell_type": "markdown",
   "id": "2bca2513",
   "metadata": {},
   "source": [
    "### Initial Setup Commands:  use git bash "
   ]
  },
  {
   "cell_type": "markdown",
   "id": "045d5487",
   "metadata": {},
   "source": [
    "#### 1 Create Project Directory Structure"
   ]
  },
  {
   "cell_type": "raw",
   "id": "6bc403bd",
   "metadata": {},
   "source": [
    "# Create directory structure\n",
    "mkdir -p data/{raw,processed,external}\n",
    "mkdir -p notebooks/{exploratory,final}\n",
    "mkdir -p src/{data,features,models,visualization}\n",
    "mkdir models reports"
   ]
  },
  {
   "cell_type": "markdown",
   "id": "6eb8ec07",
   "metadata": {},
   "source": [
    "The `mkdir -p` command creates directories recursively, including parent directories if they don’t exist. This command helps organize the project into structured folders:\n",
    "\n",
    "- **data/**: Stores datasets, divided into:\n",
    "  - **raw/**: Original unprocessed datasets.\n",
    "  - **processed/**: Cleaned and transformed datasets.\n",
    "  - **external/**: External datasets (e.g., third-party data sources).\n",
    "\n",
    "- **notebooks/**: Contains Jupyter notebooks, divided into:\n",
    "  - **exploratory/**: Notebooks for initial data exploration and analysis.\n",
    "  - **final/**: Polished notebooks for reports or sharing.\n",
    "\n",
    "- **src/**: Stores reusable Python scripts for different functionalities:\n",
    "  - **data/**: Scripts for loading and processing data.\n",
    "  - **features/**: Scripts for feature engineering.\n",
    "  - **models/**: Machine learning model training and evaluation scripts.\n",
    "  - **visualization/**: Scripts for data visualization.\n",
    "\n",
    "- **models/**: Stores trained models (e.g., `.pkl`, `.h5` files).\n",
    "\n",
    "- **reports/**: Holds reports and generated output visualizations.\n"
   ]
  },
  {
   "cell_type": "markdown",
   "id": "040f4f51",
   "metadata": {},
   "source": [
    "#### 2 Create initial files"
   ]
  },
  {
   "cell_type": "raw",
   "id": "831d5366",
   "metadata": {},
   "source": [
    "# Create initial files\n",
    "touch requirements.txt\n",
    "echo \"# Data Science Project Title\\n\\nDescription of your project.\" > README.md"
   ]
  },
  {
   "cell_type": "markdown",
   "id": "eacdb7eb",
   "metadata": {},
   "source": [
    "\n",
    "\n",
    "- **`touch requirements.txt`**: Creates a blank `requirements.txt` file for listing required Python libraries.\n",
    "\n",
    "- **`echo \"# Data Science Project Title\\n\\nDescription of your project.\" > README.md`**: Writes a basic project title and description into `README.md`.\n"
   ]
  },
  {
   "cell_type": "markdown",
   "id": "f37b1196",
   "metadata": {},
   "source": [
    "#### 3. Create .gitignore File\n"
   ]
  },
  {
   "cell_type": "code",
   "execution_count": null,
   "id": "084af28e",
   "metadata": {},
   "outputs": [],
   "source": [
    "cat > .gitignore << EOF\n",
    "# Data files\n",
    "data/raw/*\n",
    "data/processed/*\n",
    "data/external/*\n",
    "!data/raw/.gitkeep\n",
    "!data/processed/.gitkeep\n",
    "!data/external/.gitkeep\n",
    "\n",
    "*.csv\n",
    "*.xlsx\n",
    "*.json\n",
    "*.sqlite\n",
    "*.h5\n",
    "*.parquet\n",
    "*.feathe\n",
    "\n",
    "# Jupyter notebook checkpoints\n",
    ".ipynb_checkpoints\n",
    "*/.ipynb_checkpoints/*\n",
    "\n",
    "# Python cache files\n",
    "__pycache__/\n",
    "*.py[cod]\n",
    "*$py.class\n",
    "\n",
    "# Distribution / packaging\n",
    "dist/\n",
    "build/\n",
    "*.egg-info/\n",
    "\n",
    "# Virtual environments\n",
    "venv/\n",
    "env/\n",
    ".env/\n",
    "\n",
    "# Model files\n",
    "*.pkl\n",
    "*.h5\n",
    "*.joblib\n",
    "*.onnx\n",
    "*.pt\n",
    "*.bin\n",
    "*.keras\n",
    "models/*\n",
    "!models/.gitkeep\n",
    "\n",
    "# IDE specific files\n",
    ".idea/\n",
    ".vscode/\n",
    "*.swp\n",
    "EOF\n",
    "\n",
    "# Environment\n",
    ".env\n",
    ".venv\n",
    "env/\n",
    "venv/\n",
    "ENV/\n",
    ".conda/\n",
    "\n",
    "\n",
    "# Credentials and secrets\n",
    ".env\n",
    "*.pem\n",
    "*_key.json\n",
    "credentials/\n",
    "\n",
    "\n",
    "# Figures and plots\n",
    "*.png\n",
    "*.jpg\n",
    "*.pdf\n",
    "# Except those in reports\n",
    "!reports/*.png\n",
    "!reports/*.pdf\n",
    "\n",
    "# Logs\n",
    "logs/\n",
    "*.log\n",
    "runs/\n",
    "\n"
   ]
  },
  {
   "cell_type": "markdown",
   "id": "27b9a0aa",
   "metadata": {},
   "source": [
    " .gitignore File Explanation\n",
    "\n",
    "This creates a `.gitignore` file to prevent unnecessary files from being tracked by Git:\n",
    "\n",
    "- **Data files**: Ignores all datasets except empty placeholder files (`.gitkeep`).\n",
    "\n",
    "- **Jupyter Notebook checkpoints**: Excludes auto-generated backup files.\n",
    "\n",
    "- **Python cache files**: Ignores compiled Python files (`__pycache__/`, `.pyc`, `.pyo`).\n",
    "\n",
    "- **Distribution/packaging**: Ignores build-related files (e.g., `dist/`, `*.egg-info`).\n",
    "\n",
    "- **Virtual environments**: Ignores virtual environment folders (`venv/`, `env/`).\n",
    "\n",
    "- **Model files**: Prevents tracking of large ML models (`*.pkl`, `*.h5`, `*.joblib`).\n",
    "\n",
    "- **IDE-specific files**: Ignores editor configuration files (`.idea/`, `.vscode/`).\n"
   ]
  },
  {
   "cell_type": "markdown",
   "id": "7387230e",
   "metadata": {},
   "source": [
    "#### 4. Add Placeholder Files to Keep Empty Directories"
   ]
  },
  {
   "cell_type": "markdown",
   "id": "0258e89b",
   "metadata": {},
   "source": [
    "touch data/raw/.gitkeep data/processed/.gitkeep data/external/.gitkeep models/.gitkeep\n"
   ]
  },
  {
   "cell_type": "markdown",
   "id": "158df043",
   "metadata": {},
   "source": [
    "#### 5 Initialize Git Repository"
   ]
  },
  {
   "cell_type": "raw",
   "id": "61c01aac",
   "metadata": {},
   "source": [
    "# Initialize repository\n",
    "git init\n",
    "\n",
    "# Add all files\n",
    "git add .\n",
    "\n",
    "# Initial commit\n",
    "git commit -m \"Initialize data science project structure\""
   ]
  },
  {
   "cell_type": "markdown",
   "id": "b19f2a03",
   "metadata": {},
   "source": [
    "### 2.2 Git Commit Message Best Practices\n",
    "\n",
    "**Bad:**\n",
    "\n",
    "git commit -m \"changes\"\n",
    "\n",
    "**Good**\n",
    "\n",
    "git commit -m \"Add random forest model for churn prediction\"\n",
    "\n",
    "**Better**\n",
    "\n",
    "git commit -m \"Add random forest model for churn prediction\n",
    "\n",
    "Implemented random forest with 100 trees and max depth of 10.\n",
    "Model achieves 87% accuracy on validation set, improving over\n",
    "previous logistic regression (82% accuracy).\n",
    "Hyperparameters chosen via 5-fold cross-validation.\"\n",
    "\n"
   ]
  },
  {
   "cell_type": "markdown",
   "id": "abfca180",
   "metadata": {},
   "source": [
    "### 2.3 Working with Notebooks Example:"
   ]
  },
  {
   "cell_type": "code",
   "execution_count": null,
   "id": "aa46c442",
   "metadata": {},
   "outputs": [],
   "source": [
    "# Create a new notebook\n",
    "jupyter notebook notebooks/exploratory/data_exploration.ipynb\n",
    "\n",
    "# After making changes and saving\n",
    "git add notebooks/exploratory/data_exploration.ipynb\n",
    "git commit -m \"Explore customer demographics with visualization\n",
    "\n",
    "- Added distribution plots for age and income\n",
    "- Identified significant correlation between age and purchase frequency\n",
    "- Added initial hypothesis about customer segments\""
   ]
  },
  {
   "cell_type": "markdown",
   "id": "f7224f61",
   "metadata": {},
   "source": [
    "### 2.4  Handling Large Files:"
   ]
  },
  {
   "cell_type": "markdown",
   "id": "844603d0",
   "metadata": {},
   "source": [
    "#### Git LFS (Large File Storage) for Data Science Projects\n",
    "\n",
    "**What is Git LFS?\n",
    "\n",
    "Git Large File Storage (LFS) is an extension of Git that efficiently handles large files such as datasets, machine learning models, and binary files. Instead of storing large files directly in the Git repository, Git LFS stores pointers to these files, keeping the repository size manageable.\n",
    "\n"
   ]
  },
  {
   "cell_type": "code",
   "execution_count": null,
   "id": "fdb4334e",
   "metadata": {},
   "outputs": [],
   "source": [
    "# Initialize Git LFS\n",
    "#Installs Git LFS for the repository.\n",
    "#Ensures Git LFS is enabled for handling large files.\n",
    "\n",
    "git lfs install\n",
    "\n",
    "# Track specific file types with Git LFS\n",
    "# Git LFS Configuration\n",
    "\n",
    "```python\n",
    "# Tells Git LFS to track large files, specifically:\n",
    "# *.csv → Large dataset files.\n",
    "# *.h5 → Deep learning model files (e.g., TensorFlow, Keras).\n",
    "# models/*.pkl → Pickled ML models.\n",
    "\n",
    "# This creates a .gitattributes file, which maps these file types to Git LFS.\n",
    "\n",
    "git lfs track \"*.csv\"\n",
    "git lfs track \"*.h5\"\n",
    "git lfs track \"models/*.pkl\"\n",
    "\n",
    "\n",
    "# Add the .gitattributes file\n",
    "# The .gitattributes file defines which files should be handled by Git LFS.\n",
    "git add .gitattributes\n",
    "\n",
    "# Commit the change\n",
    "git commit -m \"Setup Git LFS for large data and model files\"\n",
    "\n",
    "# Now you can add large files normally\n",
    "#Git does not store the actual large file in the repository.\n",
    "# Instead, it stores a pointer and uploads the file to a separate storage area handled by Git LFS.\n",
    "git add data/external/large_reference_data.csv\n",
    "git commit -m \"Add reference dataset\""
   ]
  },
  {
   "cell_type": "markdown",
   "id": "a8212475",
   "metadata": {},
   "source": [
    "#### . DVC: Data Version Control\n",
    "    \n",
    "DVC (Data Version Control) is a tool designed specifically for data science projects.\n",
    "Unlike Git LFS, DVC does not store large files in Git—it uses external storage (S3, Google Drive, etc.).\n",
    "\n",
    "\n",
    "##### How DVC Works\n",
    "-Tracks datasets separately from Git.\n",
    "-Stores data in remote storage (S3, Google Drive, etc.).\n",
    "-Version control for datasets and models."
   ]
  },
  {
   "cell_type": "code",
   "execution_count": null,
   "id": "c382ef31",
   "metadata": {},
   "outputs": [],
   "source": [
    "# Install DVC\n",
    "pip install dvc\n",
    "\n",
    "# Initialize DVC\n",
    "dvc init\n",
    "git add .dvc\n",
    "git commit -m \"Initialize DVC\"\n",
    "\n",
    "# Track a data file or directory\n",
    "dvc add data/raw/large_dataset.csv\n",
    "\n",
    "# Commit the .dvc file\n",
    "git add data/raw/large_dataset.csv.dvc\n",
    "git commit -m \"Add raw dataset\"\n",
    "\n",
    "# Set up remote storage\n",
    "dvc remote add -d myremote s3://mybucket/dvcstore\n",
    "\n",
    "# Push data to remote\n",
    "dvc push"
   ]
  },
  {
   "cell_type": "markdown",
   "id": "34183d9a",
   "metadata": {},
   "source": [
    "#### Git LFS and DVC Integration\n",
    "\n",
    "Git LFS and DVC can work together, but they serve different purposes and should be used for different types of files in a data science project.\n",
    "\n",
    "##### How They Complement Each Other\n",
    "\n",
    "- **Git LFS** is best for binary files that need to be versioned inside Git (e.g., trained models).\n",
    "- **DVC** is best for large datasets that don’t belong inside Git and should be stored externally.\n",
    "\n",
    "💡 **Best Practice:**\n",
    "\n",
    "- ✅ Use Git LFS for ML models (`*.pkl`, `*.h5`, `*.onnx`) since they are versioned alongside your code.\n",
    "- ✅ Use DVC for datasets (`*.csv`, `*.parquet`) because datasets are typically large and should be managed separately from the codebase.\n"
   ]
  },
  {
   "cell_type": "markdown",
   "id": "fd2bfb92",
   "metadata": {},
   "source": [
    "### 2.5 Working with Branches\n",
    "Branch Management Commands:"
   ]
  },
  {
   "cell_type": "code",
   "execution_count": null,
   "id": "6b4f83e0",
   "metadata": {},
   "outputs": [],
   "source": [
    "# Create a new branch\n",
    "git branch feature-new-visualization\n",
    "\n",
    "# Switch to the branch\n",
    "git checkout feature-new-visualization\n",
    "\n",
    "# Create and switch in one command\n",
    "git checkout -b feature-neural-network\n",
    "\n",
    "# List all branches\n",
    "git branch\n",
    "\n",
    "# Merge a branch into current branch\n",
    "git merge feature-new-visualization\n",
    "\n",
    "# Delete a branch after merging\n",
    "git branch -d feature-new-visualization"
   ]
  },
  {
   "cell_type": "markdown",
   "id": "0163ffaa",
   "metadata": {},
   "source": [
    "Real-world Scenario: Adding a New Model Feature"
   ]
  },
  {
   "cell_type": "code",
   "execution_count": null,
   "id": "53e8db25",
   "metadata": {},
   "outputs": [],
   "source": [
    "# Start from main branch\n",
    "git checkout main\n",
    "\n",
    "# Create a new branch for the feature\n",
    "git checkout -b feature-gradient-boosting\n",
    "\n",
    "# Make changes, run experiments, etc.\n",
    "# ... (work on files)\n",
    "\n",
    "# Add and commit changes\n",
    "git add src/models/gradient_boosting.py\n",
    "git add notebooks/exploratory/gradient_boosting_exploration.ipynb\n",
    "git commit -m \"Implement gradient boosting model\n",
    "\n",
    "- Added GBM implementation with custom loss function\n",
    "- Model achieves 89.2% accuracy, best so far\n",
    "- Added hyperparameter tuning notebook\"\n",
    "\n",
    "# Switch back to main branch\n",
    "git checkout main\n",
    "\n",
    "# Merge your feature\n",
    "git merge feature-gradient-boosting\n",
    "\n",
    "# Delete the feature branch\n",
    "git branch -d feature-gradient-boosting"
   ]
  },
  {
   "cell_type": "markdown",
   "id": "e703cb49",
   "metadata": {},
   "source": [
    "### 2.6 Handling Merge Conflicts:"
   ]
  },
  {
   "cell_type": "code",
   "execution_count": null,
   "id": "a3266810",
   "metadata": {},
   "outputs": [],
   "source": [
    "# When a merge conflict occurs, Git will tell you which files are conflicted\n",
    "# Open the files with conflicts and look for markers like:\n",
    "<<<<<<< HEAD\n",
    "print(\"This is the current branch version\")\n",
    "=======\n",
    "print(\"This is the feature branch version\")\n",
    ">>>>>>> feature-branch\n",
    "\n",
    "# Edit the file to resolve the conflict by choosing one version or combining them\n",
    "print(\"This is the resolved version\")\n",
    "\n",
    "# Mark the file as resolved\n",
    "git add <filename>\n",
    "\n",
    "# Complete the merge\n",
    "git commit -m \"Merge feature-branch, resolve conflicts in model parameters\""
   ]
  },
  {
   "cell_type": "markdown",
   "id": "fd073f65",
   "metadata": {},
   "source": [
    "## Module 3: Remote Repositories with GitHub\n",
    "### Lesson 3.1: GitHub Basics\n",
    "Setting Up Remote Repository:"
   ]
  },
  {
   "cell_type": "code",
   "execution_count": null,
   "id": "7f7310c5",
   "metadata": {},
   "outputs": [],
   "source": [
    "# After creating repo on GitHub, connect local to remote\n",
    "git remote add origin git@github.com:username/repository-name.git\n",
    "\n",
    "# Verify remote\n",
    "git remote -v\n",
    "\n",
    "# Push local repository to GitHub\n",
    "git push -u origin main\n",
    "\n",
    "# For subsequent pushes\n",
    "git push"
   ]
  },
  {
   "cell_type": "markdown",
   "id": "2421b862",
   "metadata": {},
   "source": [
    "Example Workflow:"
   ]
  },
  {
   "cell_type": "code",
   "execution_count": null,
   "id": "e304d6c1",
   "metadata": {},
   "outputs": [],
   "source": [
    "# Clone an existing repository\n",
    "git clone git@github.com:username/data-science-project.git\n",
    "cd data-science-project\n",
    "\n",
    "# Make some changes\n",
    "touch new_analysis.py\n",
    "\n",
    "# Add and commit\n",
    "git add new_analysis.py\n",
    "git commit -m \"Add script for time series analysis\"\n",
    "\n",
    "# Push to GitHub\n",
    "git push"
   ]
  },
  {
   "cell_type": "markdown",
   "id": "e84b175b",
   "metadata": {},
   "source": [
    "###  3.2: Collaborative Workflows\n",
    "#### Fetching and Pulling:"
   ]
  },
  {
   "cell_type": "code",
   "execution_count": null,
   "id": "01133e9f",
   "metadata": {},
   "outputs": [],
   "source": [
    "# Fetch updates from remote without merging\n",
    "git fetch origin\n",
    "\n",
    "# Pull updates (fetch + merge)\n",
    "git pull origin main\n",
    "\n",
    "# Pull updates for a specific branch\n",
    "git pull origin feature-branch"
   ]
  },
  {
   "cell_type": "markdown",
   "id": "d15075c2",
   "metadata": {},
   "source": [
    "#### Creating a Pull Request (via command line and GitHub):\n",
    " 1 Push your branch to GitHub:"
   ]
  },
  {
   "cell_type": "code",
   "execution_count": null,
   "id": "725522e1",
   "metadata": {},
   "outputs": [],
   "source": [
    "git checkout -b feature-data-cleaning\n",
    "# Make changes\n",
    "git add .\n",
    "git commit -m \"Implement data cleaning pipeline\"\n",
    "git push -u origin feature-data-cleaning"
   ]
  },
  {
   "cell_type": "raw",
   "id": "557ff92f",
   "metadata": {},
   "source": [
    "2)\n",
    "\n",
    "On GitHub:\n",
    "\n",
    "- Go to your repository\n",
    "- Click \"Compare & pull request\" button\n",
    "- Add title and description\n",
    "- sign reviewers\n",
    "- ick \"Create pull request\""
   ]
  },
  {
   "cell_type": "raw",
   "id": "cf55fc79",
   "metadata": {},
   "source": [
    "3)Code Review Process:\n",
    "\n",
    "1)Reviewer examines changes in GitHub interface\n",
    "2)Adds comments, suggestions, and questions\n",
    "3)Approves or requests changes\n",
    "4)Original author makes requested changes:\n",
    "\n"
   ]
  },
  {
   "cell_type": "code",
   "execution_count": null,
   "id": "8603ed28",
   "metadata": {},
   "outputs": [],
   "source": [
    "4) # Make requested changes\n",
    "git add .\n",
    "git commit -m \"Address review comments: fix normalization\"\n",
    "git push"
   ]
  },
  {
   "cell_type": "markdown",
   "id": "261cc3d0",
   "metadata": {},
   "source": [
    "5 When approved, merge via GitHub interface or:"
   ]
  },
  {
   "cell_type": "code",
   "execution_count": null,
   "id": "b58a1b1d",
   "metadata": {},
   "outputs": [],
   "source": [
    "git checkout main\n",
    "git pull\n",
    "git merge feature-data-cleaning\n",
    "git push"
   ]
  },
  {
   "cell_type": "markdown",
   "id": "a09773f8",
   "metadata": {},
   "source": [
    "### 3.3  Jupyter Notebook Version Control"
   ]
  },
  {
   "cell_type": "markdown",
   "id": "451b10d3",
   "metadata": {},
   "source": [
    "nbstripout is a Git filter that removes execution outputs and metadata from notebooks before they are committed."
   ]
  },
  {
   "cell_type": "code",
   "execution_count": null,
   "id": "9533a06c",
   "metadata": {},
   "outputs": [],
   "source": [
    "# Install nbstripout\n",
    "#Installs the package, which allows notebooks to be cleaned automatically before commits.\n",
    "!pip install nbstripout\n",
    "\n",
    "# Set up for the repository\n",
    "nbstripout --install\n",
    "\n",
    "# This adds a filter to .git/config to clean notebooks on commit\n",
    "git commit -m \"Set up nbstripout for clean notebook diffs\""
   ]
  },
  {
   "cell_type": "markdown",
   "id": "19c77d93",
   "metadata": {},
   "source": [
    "#### Why Use `nbstripout`?\n",
    "\n",
    "- ✔ **Keeps version control clean**: Avoids large, unnecessary diffs due to output changes.\n",
    "- ✔ **Improves collaboration**: Prevents conflicts from execution order differences.\n",
    "- ✔ **Reduces repository size**: No need to track large output files.\n"
   ]
  },
  {
   "cell_type": "markdown",
   "id": "b783b46a",
   "metadata": {},
   "source": [
    "### 3.4 Scenario - Managing a Data Science Portfolio\n",
    "Portfolio README Template:"
   ]
  },
  {
   "cell_type": "code",
   "execution_count": null,
   "id": "6e2e7c3f",
   "metadata": {},
   "outputs": [],
   "source": [
    "# Project Name\n",
    "\n",
    "![Status](https://img.shields.io/badge/status-active-success.svg)\n",
    "![Python](https://img.shields.io/badge/python-3.9-blue.svg)\n",
    "![License](https://img.shields.io/badge/license-MIT-green.svg)\n",
    "\n",
    "## Overview\n",
    "Brief description of the project, its purpose, and the problem it solves.\n",
    "\n",
    "## Key Findings\n",
    "- Finding 1 with supporting data\n",
    "- Finding 2 with supporting data\n",
    "- Finding 3 with supporting data\n",
    "\n",
    "## Data Sources\n",
    "Description of data sources used, with links when possible.\n",
    "\n",
    "## Methods\n",
    "Overview of the approach, techniques, and algorithms used.\n",
    "\n",
    "### Features\n",
    "Description of key features and feature engineering approaches.\n",
    "\n",
    "### Models\n",
    "Summary of models built and their performance metrics.\n",
    "\n",
    "## Results\n",
    "Key results, visualizations, and insights gained.\n",
    "\n",
    "## Installation and Usage\n",
    "```bash\n",
    "# Clone repository\n",
    "git clone https://github.com/username/project-name.git\n",
    "cd project-name\n",
    "\n",
    "# Install dependencies\n",
    "pip install -r requirements.txt\n",
    "\n",
    "# Run example\n",
    "python src/main.py"
   ]
  }
 ],
 "metadata": {
  "kernelspec": {
   "display_name": "Python 3 (ipykernel)",
   "language": "python",
   "name": "python3"
  },
  "language_info": {
   "codemirror_mode": {
    "name": "ipython",
    "version": 3
   },
   "file_extension": ".py",
   "mimetype": "text/x-python",
   "name": "python",
   "nbconvert_exporter": "python",
   "pygments_lexer": "ipython3",
   "version": "3.11.5"
  }
 },
 "nbformat": 4,
 "nbformat_minor": 5
}
